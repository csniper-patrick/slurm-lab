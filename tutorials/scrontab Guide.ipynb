{
 "cells": [
  {
   "cell_type": "markdown",
   "id": "19f99c53-1c59-4968-b543-76e632d05c3a",
   "metadata": {},
   "source": [
    "# `scrontab` Guide\n",
    "scrontab let user submit recurring jobs to the slurm cluster, similar to, as you can tell from the name, a cronjob in Linux. One major difference between a cronjob and a scrontab recurring job is that a cronjob is expected to run at around the scheduled time, but the scrontab job is only start queuing at the scheduled time, and only until the current run has finished, the next run will be queued. So if you want your scrontab job to run on time, you might need to consider dedicating some resource to it.  \n",
    "\n",
    "reference: [scrontab - manpage](/doc/scrontab.html)\n",
    "\n",
    "In this guide, it is better and easier to edit the scrontab jobs interactively. You can open a terminal alongside this notebook to tryout the examples. "
   ]
  },
  {
   "cell_type": "markdown",
   "id": "be055374-1bfd-46aa-a7f1-ff31ebc5b915",
   "metadata": {},
   "source": [
    "### Enabling scrontab\n",
    "To enable scrontab, you must set `ScronParameters` in slurm.conf to \"enable\""
   ]
  },
  {
   "cell_type": "code",
   "execution_count": null,
   "id": "94a9354a-4e07-4f7b-8070-ab3a196f5b1a",
   "metadata": {
    "tags": []
   },
   "outputs": [],
   "source": [
    "scontrol show config | grep -i scron"
   ]
  },
  {
   "cell_type": "markdown",
   "id": "b16cf19e-1617-4399-8e01-cb2085ebe506",
   "metadata": {},
   "source": [
    "Then you can test if it is enabled, by trying to list scrontab jobs of the current user."
   ]
  },
  {
   "cell_type": "code",
   "execution_count": null,
   "id": "10833cba-a778-4b59-b616-47d05f36bd88",
   "metadata": {
    "tags": []
   },
   "outputs": [],
   "source": [
    "scrontab -l"
   ]
  },
  {
   "cell_type": "markdown",
   "id": "5990bbe7-1e6d-488c-a81a-90f993d9b596",
   "metadata": {},
   "source": [
    "## Your first job to scrontab\n",
    "As a simple example, we are going to run the following job script every 5 min."
   ]
  },
  {
   "cell_type": "code",
   "execution_count": null,
   "id": "59f7d973-d59d-4d3d-827d-8c15a78ecd27",
   "metadata": {
    "tags": []
   },
   "outputs": [],
   "source": [
    "cat scrontab-example.sh"
   ]
  },
  {
   "cell_type": "markdown",
   "id": "f5de04c8-0cae-41bf-ae2b-de1e65c19fcc",
   "metadata": {},
   "source": [
    "Run this command to start editting the scrontab job.  \n",
    "```bash\n",
    "scrontab -e\n",
    "```  \n",
    "Add the following line and save it\n",
    "```\n",
    "#SCRON -t 00:02:00\n",
    "*/5 * * * * ~/tutorials/scrontab-example.sh\n",
    "```  \n",
    "\n",
    "Job options are specified by #SCRON directive, similar to #SBATCH. Each line of #SCRON option affect the single following job entry only. \n",
    "\n",
    "\n",
    "You can now run squeue to check if the job has been submitted. You can see the job is pending with the reason \"BeginTime\". Unlike a normal cron job, which is expected to start running at around the planned time, a scrontab job only start queuing when the planned time is reached. This job is scheduled to run every 5 min, with a timelimit of 2 min, specified by the #SCRON directive"
   ]
  },
  {
   "cell_type": "code",
   "execution_count": null,
   "id": "b60ac33f-2f4e-4405-8b70-989c56465813",
   "metadata": {
    "tags": []
   },
   "outputs": [],
   "source": [
    "squeue -la --start"
   ]
  },
  {
   "cell_type": "markdown",
   "id": "9a5081fc-3248-404d-9aed-fb7ddaad048f",
   "metadata": {},
   "source": [
    "Now you can run this squeue command in the terminal to monitor the job\n",
    "```\n",
    "squeue -la -i 5\n",
    "```\n",
    "Once the job finished, you can observe that the job actually return to PENDING state with the same jobid, waiting for the next cycle. If you look at the job detail, by `scontrol show job`, you likely see the stdout file stay the same as well, which means the job output will be overwritten by the latest run. If you need to keep the log of every run, you could refer to `exec` line in the script, that redirect and split the io to create another script file."
   ]
  },
  {
   "cell_type": "markdown",
   "id": "0d015f54-852e-4874-a91b-b5fc847e0817",
   "metadata": {},
   "source": [
    "## Skipping\n",
    "To skip a run, you should requeue the job instead of cancelling it.  \n",
    "```\n",
    "scontrol requeue <jobid>\n",
    "```"
   ]
  },
  {
   "cell_type": "markdown",
   "id": "4b590e0c-1a6e-46f6-b11e-d2987c36eb7f",
   "metadata": {},
   "source": [
    "## Removing/disable the job\n",
    "If you `scancel` the job, all future will be canceled, and the job will be disable. You can try the following:\n",
    "```\n",
    "scancel <jobid>\n",
    "```  \n",
    "Then you can list scrontab jobs (`scrontab -l`) and see the cron job has been commented out and disabled. \n",
    "```\n",
    "#DISABLED: #SCRON -t 00:02:00\n",
    "#DISABLED: */5 * * * * ~/tutorials/scrontab-example.sh\n",
    "```"
   ]
  },
  {
   "cell_type": "markdown",
   "id": "86917699-ffe3-4d33-81cf-e134953b289b",
   "metadata": {},
   "source": [
    "## Unfinished jobs\n",
    "A new iteration will only start queuing after the previous run in completed. Let's create another job to demonstrat it. \n",
    "```\n",
    "#SCRON -t 00:03:00\n",
    "*/2 * * * * ~/tutorials/scrontab-example.sh\n",
    "```\n",
    "This is a 3 minutes job scheduled to run every 2 miniutes. However, you will find the job only runs every 4 minutes. "
   ]
  },
  {
   "cell_type": "markdown",
   "id": "b0677a02-d9c3-4391-8d21-b9d3fe42f3b9",
   "metadata": {},
   "source": [
    "## Clean UP"
   ]
  },
  {
   "cell_type": "code",
   "execution_count": null,
   "id": "0ef70759-fb90-4517-aa2b-bf7a289de4b0",
   "metadata": {
    "tags": []
   },
   "outputs": [],
   "source": [
    "# clean up all scrontab jobs\n",
    "scrontab <<EOF\n",
    "EOF"
   ]
  }
 ],
 "metadata": {
  "kernelspec": {
   "display_name": "Bash",
   "language": "bash",
   "name": "bash"
  },
  "language_info": {
   "codemirror_mode": "shell",
   "file_extension": ".sh",
   "mimetype": "text/x-sh",
   "name": "bash"
  }
 },
 "nbformat": 4,
 "nbformat_minor": 5
}
