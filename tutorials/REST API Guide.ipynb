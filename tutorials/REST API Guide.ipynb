{
 "cells": [
  {
   "cell_type": "markdown",
   "id": "aaaa81dd-0163-479d-8a35-e8af55ab6449",
   "metadata": {},
   "source": [
    "# Slurm REST API Guide\n",
    "Slurm provides a REST API alongside the CLI, useful for integrating with other software. This API uses the JSON Web Token mechanism to authenticate, which is very popular in web applications, even supported by various cloud like AWS. In this guide i will demonstrate how to interact with this API using Python. "
   ]
  },
  {
   "cell_type": "markdown",
   "id": "5399ebad-a671-46d7-801f-e5f8b349d316",
   "metadata": {},
   "source": [
    "## JWT authentication\n",
    "Enable this feature, make sure it is enabled when slurm is compiled, and provide the necessary parameter in slurm.conf and slurmdbd.conf  \n",
    "Here we demonstrate the use of a RS256 key pair. \n",
    "```\n",
    "AuthAltTypes=auth/jwt\n",
    "AuthAltParameters=jwks=/etc/slurm/jwks.pub.json\n",
    "```\n",
    "In AUthAltParameters, use jwks to point to the json file that contains the public key of the signing key.  \n",
    "A valid key pair can be generated using this [json-web-key-generator](https://github.com/bspk/json-web-key-generator) command, or this [mkjwk](https://mkjwk.org/) website by the same author. \n",
    "```\n",
    "java -jar /build/target/json-web-key-generator-0.9-SNAPSHOT-jar-with-dependencies.jar --type RSA --size 2048 --algorithm RS256 --idGenerator sha1 --keySet --output /jwks.json --pubKeyOutput /jwks.pub.json\n",
    "```  \n",
    "In this slurm-lab setup, the key pair is stored in JSON web key set /etc/slurm/jwks.json, and the public key is stored in /etc/slurm/jwks.pub.json. Public key is supplied to slurm, and the key set is used to signed the request. The following cell shows a function to generate the http request header that contains the necessary jwt auth token. "
   ]
  },
  {
   "cell_type": "code",
   "execution_count": null,
   "id": "dfad7d29-dcd8-4b01-bd4f-f8052f1c7ccc",
   "metadata": {
    "tags": []
   },
   "outputs": [],
   "source": [
    "import time\n",
    "import json\n",
    "import jwt\n",
    "import requests\n",
    "import getpass\n",
    "import os\n",
    "import io\n",
    "import getent\n",
    "import pandas as pd\n",
    "from ipywidgets import interact, interactive, fixed, interact_manual\n",
    "import ipywidgets as widgets\n",
    "jwks_path=\"/etc/slurm/jwks.json\"\n",
    "jwks=json.load(open(jwks_path))\n",
    "\n",
    "def get_auth_header(username=getpass.getuser(), expire=1800, private_key=jwks[\"keys\"][0]):\n",
    "    iat = round(time.time())\n",
    "    exp = iat + expire\n",
    "    userinfo = dict(getent.passwd(username))\n",
    "    payload={\n",
    "        \"iat\": iat, # (required) token issue time\n",
    "        \"exp\": exp, # (required) token expire time\n",
    "        \"username\": username, # (required) username or sun\n",
    "        \"homedir\": userinfo[\"dir\"],\n",
    "        \"uid\": userinfo[\"uid\"],\n",
    "        \"gid\": userinfo[\"gid\"]\n",
    "    }\n",
    "    return {\n",
    "        \"X-SLURM-USER-NAME\": username, # this should match the username/sun attribute in jwt's payload\n",
    "        \"X-SLURM-USER-TOKEN\": jwt.encode(\n",
    "            payload,\n",
    "            jwt.algorithms.RSAAlgorithm.from_jwk(json.dumps(private_key)),\n",
    "            algorithm=\"RS256\",\n",
    "            headers={\n",
    "                \"kid\": private_key[\"kid\"] # key id is necessary for slurm daemon to select the corresponding public key for verification.\n",
    "            }\n",
    "        )\n",
    "    }\n",
    "print(json.dumps(get_auth_header(username=\"root\"), indent=2))"
   ]
  },
  {
   "cell_type": "markdown",
   "id": "da0537b3-ec3e-4d6e-891e-6258e166db96",
   "metadata": {},
   "source": [
    "## Test API endpoint connection\n",
    "By default the API is available at port 6820 of the host running slurmrestd. In this lab environment slurmrestd is running on the 2 slurm master node `slurm-lab-master-[1,2]`, the nginx on this frontend container act as a reverse to the 2 endpoint such that the api is available at port 80. "
   ]
  },
  {
   "cell_type": "code",
   "execution_count": null,
   "id": "fe997448-fbaa-4ae8-bb91-44572d313935",
   "metadata": {
    "tags": []
   },
   "outputs": [],
   "source": [
    "res = requests.get(\"http://127.0.0.1/slurm/v0.0.41/ping\", headers=get_auth_header())\n",
    "print(json.dumps(res.json(), indent=2))"
   ]
  },
  {
   "cell_type": "markdown",
   "id": "43c9560e-cc8f-48db-a1f5-2a6a885308fe",
   "metadata": {},
   "source": [
    "API reference can be found here: [Slurm REST API](/doc/rest_api.html). If you are planning to use openapi client generator, the specification can be queried from the endpoint"
   ]
  },
  {
   "cell_type": "code",
   "execution_count": null,
   "id": "f60c67ee-a334-42af-a409-2a2172e9ecad",
   "metadata": {
    "tags": []
   },
   "outputs": [],
   "source": [
    "res = requests.get(\"http://127.0.0.1/openapi\",headers=get_auth_header())\n",
    "openapi_spec = res.json() # the spec is too big to be shown in this notebook"
   ]
  },
  {
   "cell_type": "markdown",
   "id": "ad7b25db-2a33-488c-97ce-1c2090d9f155",
   "metadata": {},
   "source": [
    "## Job Submission, Query, Delete\n",
    "* Query jobs status (squeue): [GET /slurm/v0.0.41/jobs](/doc/rest_api.html#slurmV0041GetJobs)  \n",
    "* Query specific job (squeue): [GET /slurm/v0.0.41/job/{job_id}](/doc/rest_api.html#slurmV0041GetJob)  \n",
    "* Submit job to cluster (sbatch): [POST /slurm/v0.0.41/job/submit](/doc/rest_api.html#slurmV0041PostJobSubmit)\n",
    "* Delete jobs (scancel): [DELETE /slurm/v0.0.41/jobs](/doc/rest_api.html#slurmV0041DeleteJobs)\n",
    "* Delete job by id (scancel): [DELETE /slurm/v0.0.41/job/{job_id}](/doc/rest_api.html#slurmV0041DeleteJob)"
   ]
  },
  {
   "cell_type": "markdown",
   "id": "42925f6c-60ac-452f-b8e0-7ed83992a1ff",
   "metadata": {},
   "source": [
    "### Your first job submitted via API\n",
    "\n",
    "To submit a job, we send a POST request to the endpoint `/slurm/v0.0.41/job/submit`. The following example is a minimal stuff you need to submit a job via the API.  \n",
    "1. To submit a single job, you put all the config under the \"job\" key \n",
    "2. script, as a string, is required\n",
    "3. current_working_directory is required. In older version of slurmrestd, if a job is submitted without this entry, the job will take the work directory of slurmrestd as its work directory\n",
    "4. environment is required, as a list of string. You can define custom environment variables, like using \"sbatch --export\" option. Note that even if you are not defining any custom variables, you need still need this variable, the job submission request will fail otherwise.\n",
    "  \n",
    "If job is submitted successfully, you should be able to get the job_id from the result."
   ]
  },
  {
   "cell_type": "code",
   "execution_count": null,
   "id": "66c5578c-8cfa-4681-afe9-01e75d156056",
   "metadata": {
    "tags": []
   },
   "outputs": [],
   "source": [
    "# Job submission \n",
    "with io.open('./helloworld.sh', 'r', encoding='utf-8') as file:\n",
    "    req_body = {\n",
    "        \"job\": {\n",
    "            \"script\": file.read(),\n",
    "            \"current_working_directory\": os.getcwd(),\n",
    "            \"environment\": [\n",
    "                \"SLURM_GET_USER_ENV=1\" # setting environment as if login\n",
    "            ]\n",
    "        }\n",
    "    }\n",
    "    res = requests.post(\"http://127.0.0.1/slurm/v0.0.41/job/submit\", json=req_body, headers=get_auth_header())\n",
    "    submission_result = res.json()\n",
    "    print(json.dumps(submission_result, indent=2))"
   ]
  },
  {
   "cell_type": "markdown",
   "id": "73ef5f63-8ebb-4268-ba59-c48325c28d3b",
   "metadata": {},
   "source": [
    "Using this job id we get from the submission we can get query more detail about the job. A GET request to path `/slurm/v0.0.41/job/{jobid}` gives you the detail of the job specified by the job id"
   ]
  },
  {
   "cell_type": "code",
   "execution_count": null,
   "id": "36a8bcd3-7624-4927-9138-c23051e9064f",
   "metadata": {
    "tags": []
   },
   "outputs": [],
   "source": [
    "res = requests.get(f\"http://127.0.0.1/slurm/v0.0.41/job/{submission_result['job_id']}\", headers=get_auth_header())\n",
    "print(json.dumps(res.json(), indent=2))"
   ]
  },
  {
   "cell_type": "markdown",
   "id": "a68eac4b-bbde-4772-aec3-c908556940dc",
   "metadata": {},
   "source": [
    "To remove this job, make a DELETE request to the same path."
   ]
  },
  {
   "cell_type": "code",
   "execution_count": null,
   "id": "d1aa1b54-631f-402c-ac0f-19a4eeba7537",
   "metadata": {
    "tags": []
   },
   "outputs": [],
   "source": [
    "res = requests.delete(f\"http://127.0.0.1/slurm/v0.0.41/job/{submission_result['job_id']}\", headers=get_auth_header())\n",
    "print(json.dumps(res.json(), indent=2))"
   ]
  },
  {
   "cell_type": "markdown",
   "id": "f4ca1fc2-4d81-48a0-bd34-8170aa09cfd3",
   "metadata": {},
   "source": [
    "### More complex jobs\n",
    "Now let's try some more complex jobs. We will reuse the mpi-pi example. One different from the MPI Guide notebook is this notebook run a python kernel, so we need to move the build process to a job. "
   ]
  },
  {
   "cell_type": "code",
   "execution_count": null,
   "id": "3dc8c096-daca-4a7e-8d73-2367392a2080",
   "metadata": {
    "tags": []
   },
   "outputs": [],
   "source": [
    "build_script = \"\"\"#!/bin/bash -l\n",
    "module avail\n",
    "module load mpi\n",
    "module list\n",
    "make --directory mpi-pi\n",
    "\"\"\"\n",
    "build_job = {\n",
    "    \"job\":{\n",
    "        \"name\": \"build-mpi-pi\",\n",
    "        \"script\": build_script,\n",
    "        \"current_working_directory\": os.getcwd(),\n",
    "        \"environment\": [\n",
    "                \"SLURM_GET_USER_ENV=1\"\n",
    "        ],\n",
    "    }\n",
    "}\n",
    "\n",
    "# submit build_job \n",
    "res = requests.post(\"http://127.0.0.1/slurm/v0.0.41/job/submit\", json=build_job, headers=get_auth_header())\n",
    "build_job_submit_res = res.json()\n",
    "print(json.dumps(build_job_submit_res, indent=2))\n",
    "\n",
    "run_script = \"\"\"#!/bin/bash -l\n",
    "module load mpi\n",
    "mpirun mpi-pi/parallel-pi\n",
    "\"\"\"\n",
    "run_job = {\n",
    "    \"job\": {\n",
    "        \"name\": \"run-mpi-pi\",\n",
    "        \"script\": run_script,\n",
    "        \"current_working_directory\": os.getcwd(),\n",
    "        \"environment\": [\n",
    "                \"SLURM_GET_USER_ENV=1\"\n",
    "        ],\n",
    "        \"dependency\": f\"afterany:{build_job_submit_res['job_id']}\",\n",
    "        \"minimum_nodes\": 2,\n",
    "        \"tasks_per_node\": 2\n",
    "    }\n",
    "}\n",
    "# submit 4 run_job\n",
    "for i in range(4):\n",
    "    res = requests.post(\"http://127.0.0.1/slurm/v0.0.41/job/submit\", json=run_job, headers=get_auth_header())\n",
    "    run_job_submit_res = res.json()\n",
    "    print(json.dumps(run_job_submit_res, indent=2))"
   ]
  },
  {
   "cell_type": "markdown",
   "id": "5e8de8ed-190e-4084-89c1-dddefed5ef8b",
   "metadata": {},
   "source": [
    "We can get a list of all the jobs and their details in these endpoints\n",
    "* GET /slurm/v0.0.41/jobs\n",
    "* GET /slurm/v0.0.41/jobs/state"
   ]
  },
  {
   "cell_type": "markdown",
   "id": "26c554a0-37c9-4e0f-97cd-9a934e215d85",
   "metadata": {},
   "source": [
    "## Cluster Status"
   ]
  },
  {
   "cell_type": "markdown",
   "id": "5c397c96-d061-4629-a3aa-0aeff572432b",
   "metadata": {},
   "source": [
    "### List Jobs\n",
    "We can get a list of all the jobs and their details in these endpoints\n",
    "* GET /slurm/v0.0.41/jobs\n",
    "* GET /slurm/v0.0.41/jobs/state"
   ]
  },
  {
   "cell_type": "code",
   "execution_count": null,
   "id": "2baefa96-7ae7-465c-893c-88cdecb6c46c",
   "metadata": {
    "tags": []
   },
   "outputs": [],
   "source": [
    "res = requests.get(\"http://127.0.0.1/slurm/v0.0.41/jobs/state\", headers=get_auth_header())\n",
    "pd.DataFrame.from_records(res.json()[\"jobs\"]) "
   ]
  },
  {
   "cell_type": "code",
   "execution_count": null,
   "id": "c9566910-3e94-4668-b816-846b16b99bbf",
   "metadata": {
    "tags": []
   },
   "outputs": [],
   "source": [
    "res = requests.get(\"http://127.0.0.1/slurm/v0.0.41/jobs\", headers=get_auth_header())\n",
    "pd.DataFrame.from_records(res.json()[\"jobs\"], columns=[\"job_id\", \"user_name\", \"name\", \"job_state\", \"tres_alloc_str\", \"partition\", \"nodes\",\"time_limit\", \"dependency\"]) "
   ]
  },
  {
   "cell_type": "markdown",
   "id": "2235dd62-8d16-44de-b8ce-fd6a9584f862",
   "metadata": {},
   "source": [
    "### List partitions\n",
    "* [GET /slurm/v0.0.41/partitions](/doc/rest_api.html#slurmV0041GetPartitions)\n",
    "* [GET /slurm/v0.0.41/partition/{partition_name}](/doc/rest_api.html#slurmV0041GetPartition)"
   ]
  },
  {
   "cell_type": "code",
   "execution_count": null,
   "id": "ba765b5b-fd86-48aa-9dea-659a00572ff4",
   "metadata": {
    "tags": []
   },
   "outputs": [],
   "source": [
    "res = requests.get(\"http://127.0.0.1/slurm/v0.0.41/partitions\", headers=get_auth_header())\n",
    "pd.DataFrame.from_records(res.json()[\"partitions\"], columns=[\"tres\", \"name\", \"node_sets\", \"partition\"]) "
   ]
  },
  {
   "cell_type": "markdown",
   "id": "7196b6f5-ba42-4bb6-9d78-d89344f4e8bf",
   "metadata": {},
   "source": [
    "### List Nodes\n",
    "* [GET /slurm/v0.0.41/nodes](/doc/rest_api.html#slurmV0041GetNodes)\n",
    "* [GET /slurm/v0.0.41/node/{node_name}](/doc/rest_api.html#slurmV0041GetNode)"
   ]
  },
  {
   "cell_type": "code",
   "execution_count": null,
   "id": "ef775eb3-1c17-4340-a0ee-fa3e912d6f0f",
   "metadata": {
    "tags": []
   },
   "outputs": [],
   "source": [
    "res = requests.get(\"http://127.0.0.1/slurm/v0.0.41/nodes\", headers=get_auth_header())\n",
    "pd.DataFrame.from_records(res.json()[\"nodes\"], columns=[\"hostname\", \"tres\", \"reason\", \"state\", \"gres\", \"address\", \"architecture\", \"tres_used\"]) "
   ]
  },
  {
   "cell_type": "markdown",
   "id": "13958cee-a81f-4592-81bd-bd7fc3226078",
   "metadata": {},
   "source": [
    "## Admin Operations\n",
    "You can also do admin operations via the api. eg. drain nodes, cancel other user's job. You will need to make these request as root, or a slurm admin.  \n",
    "In this container lab setup, the private key used to sign JWT is world readable, hence in this notebook you can sign a jwt declaring yourself as root. This would certainly be a security issue for a production system, so please keep your private key properly."
   ]
  },
  {
   "cell_type": "markdown",
   "id": "79098f69-8cf4-4ebc-b5d5-b0f249245b44",
   "metadata": {},
   "source": [
    "### Admin example - Drain/undrain node\n",
    "1. get list of node\n",
    "2. drain the first node\n",
    "3. undrain the drained node"
   ]
  },
  {
   "cell_type": "code",
   "execution_count": null,
   "id": "2850ad79-a0ba-46ae-8283-d22ed1bee955",
   "metadata": {
    "tags": []
   },
   "outputs": [],
   "source": [
    "# get node list\n",
    "res = requests.get(\"http://127.0.0.1/slurm/v0.0.41/nodes\", headers=get_auth_header())\n",
    "node_list = [ node[\"hostname\"] for node in res.json()[\"nodes\"]]\n",
    "\n",
    "# drain the node\n",
    "res = requests.post(\n",
    "    f\"http://127.0.0.1/slurm/v0.0.41/node/{node_list[0]}\", \n",
    "    json={\n",
    "        \"state\": [\"DRAIN\"],\n",
    "        \"reason\": \"test api drain\"\n",
    "    },\n",
    "    headers=get_auth_header(username=\"root\")\n",
    ")\n",
    "print(json.dumps(res.json(), indent=2))\n",
    "\n",
    "# check the state\n",
    "res = requests.get(f\"http://127.0.0.1/slurm/v0.0.41/node/{node_list[0]}\", headers=get_auth_header())\n",
    "print(json.dumps(res.json()[\"nodes\"][0][\"state\"], indent=2))\n",
    "\n",
    "# undrain the node\n",
    "res = requests.post(\n",
    "    f\"http://127.0.0.1/slurm/v0.0.41/node/{node_list[0]}\", \n",
    "    json={\n",
    "        \"state\": [\"RESUME\"],\n",
    "    },\n",
    "    headers=get_auth_header(username=\"root\")\n",
    ")\n",
    "print(json.dumps(res.json(), indent=2))"
   ]
  },
  {
   "cell_type": "markdown",
   "id": "222f403e-27ed-4a1d-804b-e058ec54fb17",
   "metadata": {},
   "source": [
    "## Accounting endpoint\n",
    "Slurmrestd provides some api endpoint for querying and operating on the slurm accounting database. Here I will demonstration querying a few endpoint with a interactive widget. "
   ]
  },
  {
   "cell_type": "markdown",
   "id": "fbb90d9d-7532-4a7a-8935-a123e820fc1b",
   "metadata": {},
   "source": [
    "### List job history\n",
    "[GET /slurmdb/v0.0.41/jobs](/doc/rest_api.html#slurmdbV0041GetJobs)"
   ]
  },
  {
   "cell_type": "code",
   "execution_count": null,
   "id": "c71b1a57-aadb-4a2f-8a77-12db862e9758",
   "metadata": {
    "tags": []
   },
   "outputs": [],
   "source": [
    "# get node list\n",
    "res = requests.get(\"http://127.0.0.1/slurm/v0.0.41/nodes\", headers=get_auth_header())\n",
    "node_list = [\"\"]\n",
    "node_list.extend([ node[\"hostname\"] for node in res.json()[\"nodes\"]])\n",
    "\n",
    "@interact(node=node_list, job_name=\"\", partition=\"\", state=[None, \"RUNNING\", \"COMPLETED\", \"CANCELLED\", \"PENDING\"])\n",
    "def search_job_history(node=\"\", job_name=None, partition=None, state=None):\n",
    "    res = requests.get(\n",
    "        \"http://127.0.0.1/slurmdb/v0.0.41/jobs\", \n",
    "        params={\n",
    "            \"node\": node,\n",
    "            \"job_name\": job_name,\n",
    "            \"partition\": partition,\n",
    "            \"state\": state,\n",
    "        },\n",
    "        headers=get_auth_header()\n",
    "    )\n",
    "    # return res.json()\n",
    "    return pd.DataFrame.from_records(res.json()[\"jobs\"], columns=[\"job_id\", \"user\", \"name\", \"state\", \"partition\", \"nodes\", \"time\", \"exit_code\" ]) "
   ]
  },
  {
   "cell_type": "markdown",
   "id": "548710fa-1184-4167-837b-e8c45fc6299c",
   "metadata": {},
   "source": [
    "### List users\n",
    "[GET /slurmdb/v0.0.41/users](/doc/rest_api.html#slurmdbV0041GetUsers)"
   ]
  },
  {
   "cell_type": "code",
   "execution_count": null,
   "id": "380f6d8c-c8e0-4daf-ad4c-3b3c78046433",
   "metadata": {
    "tags": []
   },
   "outputs": [],
   "source": [
    "@interact(admin_level=[(\"ALL\", None), (\"Admin\", \"Administrator\"), (\"Operator\", \"Operator\"), (\"User\",\"None\")])\n",
    "def search_users(admin_level=None):\n",
    "    res = requests.get(\n",
    "        \"http://127.0.0.1/slurmdb/v0.0.41/users\",\n",
    "        params={\n",
    "            \"admin_level\": admin_level,\n",
    "        },\n",
    "        headers=get_auth_header()\n",
    "    )\n",
    "    return pd.DataFrame.from_records(res.json()[\"users\"], columns=[\"name\", \"administrator_level\", \"default\"])"
   ]
  },
  {
   "cell_type": "markdown",
   "id": "d902cc45-1b2f-4979-be6f-ef579061aba9",
   "metadata": {},
   "source": [
    "### List accounts\n",
    "[GET /slurmdb/v0.0.41/accounts](/doc/rest_api.html#slurmdbV0041GetAccounts)"
   ]
  },
  {
   "cell_type": "code",
   "execution_count": null,
   "id": "553ac58e-1213-4502-a5c5-12542aee4753",
   "metadata": {
    "tags": []
   },
   "outputs": [],
   "source": [
    "@interact(with_coords=\"\", with_assocs=\"\")\n",
    "def search_accounts(with_coords, with_assocs):\n",
    "    res = requests.get(\n",
    "        \"http://127.0.0.1/slurmdb/v0.0.41/accounts\",\n",
    "        params={\n",
    "            \"with_coords\": with_coords,\n",
    "            \"with_assocs\": with_assocs,\n",
    "        },\n",
    "        headers=get_auth_header()\n",
    "    )\n",
    "    return pd.DataFrame.from_records(res.json()[\"accounts\"], columns=[\"name\", \"organization\", \"description\", \"coordinators\", \"associations\"])"
   ]
  },
  {
   "cell_type": "markdown",
   "id": "72e01ef4-aa55-4a05-b3d4-49f75f4f1bf0",
   "metadata": {},
   "source": [
    "### List associations\n",
    "[GET /slurmdb/v0.0.41/associations](/doc/rest_api.html#slurmdbV0041GetAssociations)"
   ]
  },
  {
   "cell_type": "code",
   "execution_count": null,
   "id": "6587dc85-d6f0-4380-92dc-04108c40b921",
   "metadata": {
    "tags": []
   },
   "outputs": [],
   "source": [
    "@interact(cluster=\"\", account=\"\")\n",
    "def search_associations(cluster, account):\n",
    "    res = requests.get(\n",
    "        \"http://127.0.0.1/slurmdb/v0.0.41/associations\",\n",
    "        params={\n",
    "            \"cluster\": cluster,\n",
    "            \"account\": account,\n",
    "        },\n",
    "        headers=get_auth_header()\n",
    "    )\n",
    "    return pd.DataFrame.from_records(res.json()[\"associations\"], columns=[\"user\", \"account\", \"cluster\", \"parent_account\", \"qos\", \"comment\"])"
   ]
  }
 ],
 "metadata": {
  "kernelspec": {
   "display_name": "Python 3 (ipykernel)",
   "language": "python",
   "name": "python3"
  },
  "language_info": {
   "codemirror_mode": {
    "name": "ipython",
    "version": 3
   },
   "file_extension": ".py",
   "mimetype": "text/x-python",
   "name": "python",
   "nbconvert_exporter": "python",
   "pygments_lexer": "ipython3",
   "version": "3.12.1"
  }
 },
 "nbformat": 4,
 "nbformat_minor": 5
}
