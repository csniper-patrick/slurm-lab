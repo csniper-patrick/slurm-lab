{
 "cells": [
  {
   "cell_type": "code",
   "execution_count": null,
   "id": "42a5f9a1-0dc9-4dac-8641-85d940bdfb67",
   "metadata": {
    "tags": []
   },
   "outputs": [],
   "source": [
    "import time\n",
    "import json\n",
    "import jwt\n",
    "import requests\n",
    "import getpass\n",
    "import os\n",
    "jwks_path=\"/etc/slurm/jwks.json\"\n",
    "jwks=json.load(open(jwks_path))\n",
    "\n",
    "def generate_jwt(payload={}, expire=1800):\n",
    "    current_time_in_seconds = round(time.time())\n",
    "    expiry_time_in_seconds = current_time_in_seconds + expire\n",
    "    claims={\"exp\": expiry_time_in_seconds, \"iat\":current_time_in_seconds}\n",
    "    private_key = jwt.algorithms.RSAAlgorithm.from_jwk(json.dumps(jwks[\"keys\"][0]))\n",
    "    return jwt.encode( claims | payload , private_key, algorithm=\"RS256\")"
   ]
  },
  {
   "cell_type": "markdown",
   "id": "decd7313-5378-49a5-9f9b-1661c38d1ebf",
   "metadata": {},
   "source": [
    "test the function and decode"
   ]
  },
  {
   "cell_type": "code",
   "execution_count": null,
   "id": "30ef0008-ef63-4656-8349-1c00b29bbfd0",
   "metadata": {
    "tags": []
   },
   "outputs": [],
   "source": [
    "token=generate_jwt({\"hello\":\"world\"})\n",
    "jwt.decode(token,algorithms=\"RS256\",options={\"verify_signature\": False})"
   ]
  },
  {
   "cell_type": "markdown",
   "id": "f5a8bfc5-28d0-47dc-9ce6-7eaee8fe7177",
   "metadata": {},
   "source": [
    "sign a token for slurm rest api"
   ]
  },
  {
   "cell_type": "code",
   "execution_count": null,
   "id": "9bed09a6-a99b-43b5-8580-3bb60747dc5e",
   "metadata": {
    "tags": []
   },
   "outputs": [],
   "source": [
    "payload = {\n",
    "    \"homedir\": os.path.expanduser(\"~\"),\n",
    "    \"username\": getpass.getuser(),\n",
    "    \"uid\": os.getuid(),\n",
    "    \"gid\": os.getgid()\n",
    "}\n",
    "headers = {\n",
    "    \"X-SLURM-USER-NAME\": getpass.getuser(),\n",
    "    \"X-SLURM-USER-TOKEN\": generate_jwt(payload)\n",
    "}\n",
    "# jwt.decode(token,algorithms=\"RS256\",options={\"verify_signature\": False})"
   ]
  },
  {
   "cell_type": "code",
   "execution_count": null,
   "id": "e68b1a4e-1ada-4dba-8ba8-f494cfe27f7a",
   "metadata": {
    "tags": []
   },
   "outputs": [],
   "source": [
    "response = requests.get(\"http://127.0.0.1/slurm/v0.0.40/diag\", headers=headers)\n",
    "response.json()"
   ]
  },
  {
   "cell_type": "code",
   "execution_count": null,
   "id": "3b5bbc6e-355c-4af1-83a1-7c2f9953a0ea",
   "metadata": {},
   "outputs": [],
   "source": []
  }
 ],
 "metadata": {
  "kernelspec": {
   "display_name": "Python 3 (ipykernel)",
   "language": "python",
   "name": "python3"
  },
  "language_info": {
   "codemirror_mode": {
    "name": "ipython",
    "version": 3
   },
   "file_extension": ".py",
   "mimetype": "text/x-python",
   "name": "python",
   "nbconvert_exporter": "python",
   "pygments_lexer": "ipython3",
   "version": "3.11.5"
  }
 },
 "nbformat": 4,
 "nbformat_minor": 5
}
