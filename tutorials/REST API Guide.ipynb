{
 "cells": [
  {
   "cell_type": "markdown",
   "id": "aaaa81dd-0163-479d-8a35-e8af55ab6449",
   "metadata": {},
   "source": [
    "# Slurm REST API Guide\n",
    "Slurm provides a REST API alongside the CLI, useful for integrating with other software. This API uses the JSON Web Token mechanism to authenticate, which is very popular in web applications, even supported by various cloud like AWS. In this guide i will demonstrate how to interact with this API using Python. "
   ]
  },
  {
   "cell_type": "markdown",
   "id": "5399ebad-a671-46d7-801f-e5f8b349d316",
   "metadata": {},
   "source": [
    "## JWT authentication\n",
    "Enable this feature, make sure it is enabled when slurm is compiled, and provide the necessary parameter in slurm.conf and slurmdbd.conf  \n",
    "Here we demonstrate the use of a RS256 key pair. \n",
    "```\n",
    "AuthAltTypes=auth/jwt\n",
    "AuthAltParameters=jwks=/etc/slurm/jwks.pub.json\n",
    "```\n",
    "In AUthAltParameters, use jwks to point to the json file that contains the public key of the signing key.  \n",
    "A valid key pair can be generated using this [json-web-key-generator](https://github.com/bspk/json-web-key-generator) command, or this [mkjwk](https://mkjwk.org/) website by the same author. \n",
    "```\n",
    "java -jar /build/target/json-web-key-generator-0.9-SNAPSHOT-jar-with-dependencies.jar --type RSA --size 2048 --algorithm RS256 --idGenerator sha1 --keySet --output /jwks.json --pubKeyOutput /jwks.pub.json\n",
    "```  \n",
    "In this slurm-lab setup, the key pair is stored in JSON web key set /etc/slurm/jwks.json, and the public key is stored in /etc/slurm/jwks.pub.json. Public key is supplied to slurm, and the key set is used to signed the request. The following cell shows a function to generate the http request header that contains the necessary jwt auth token. "
   ]
  },
  {
   "cell_type": "code",
   "execution_count": null,
   "id": "dfad7d29-dcd8-4b01-bd4f-f8052f1c7ccc",
   "metadata": {
    "tags": []
   },
   "outputs": [],
   "source": [
    "import time\n",
    "import json\n",
    "import jwt\n",
    "import requests\n",
    "import getpass\n",
    "import os\n",
    "import io\n",
    "import getent\n",
    "import pandas as pd\n",
    "jwks_path=\"/etc/slurm/jwks.json\"\n",
    "jwks=json.load(open(jwks_path))\n",
    "\n",
    "def get_auth_header(username=getpass.getuser(), expire=1800, private_key=jwks[\"keys\"][0]):\n",
    "    iat = round(time.time())\n",
    "    exp = iat + expire\n",
    "    userinfo = dict(getent.passwd(username))\n",
    "    payload={\n",
    "        \"iat\": iat, # (required) token issue time\n",
    "        \"exp\": exp, # (required) token expire time\n",
    "        \"username\": username, # (required) username or sun\n",
    "        \"homedir\": userinfo[\"dir\"],\n",
    "        \"uid\": userinfo[\"uid\"],\n",
    "        \"gid\": userinfo[\"gid\"]\n",
    "    }\n",
    "    return {\n",
    "        \"X-SLURM-USER-NAME\": username, # this should match the username/sun attribute in jwt's payload\n",
    "        \"X-SLURM-USER-TOKEN\": jwt.encode(\n",
    "            payload,\n",
    "            jwt.algorithms.RSAAlgorithm.from_jwk(json.dumps(private_key)),\n",
    "            algorithm=\"RS256\",\n",
    "            headers={\n",
    "                \"kid\": private_key[\"kid\"] # key id is necessary for slurm daemon to select the corresponding public key for verification.\n",
    "            }\n",
    "        )\n",
    "    }\n",
    "print(json.dumps(get_auth_header(username=\"root\"), indent=2))"
   ]
  },
  {
   "cell_type": "markdown",
   "id": "da0537b3-ec3e-4d6e-891e-6258e166db96",
   "metadata": {},
   "source": [
    "## Test API endpoint connection\n",
    "By default the API is available at port 6820 of the host running slurmrestd. In this lab environment slurmrestd is running on the 2 slurm master node `slurm-lab-master-[1,2]`, the nginx on this frontend container act as a reverse to the 2 endpoint such that the api is available at port 80. "
   ]
  },
  {
   "cell_type": "code",
   "execution_count": null,
   "id": "fe997448-fbaa-4ae8-bb91-44572d313935",
   "metadata": {
    "tags": []
   },
   "outputs": [],
   "source": [
    "res = requests.get(\"http://127.0.0.1/slurm/v0.0.40/ping\", headers=get_auth_header())\n",
    "print(json.dumps(res.json(), indent=2))"
   ]
  },
  {
   "cell_type": "markdown",
   "id": "43c9560e-cc8f-48db-a1f5-2a6a885308fe",
   "metadata": {},
   "source": [
    "API reference can be found here: [Slurm REST API](/doc/rest_api.html). If you are planning to use openapi client generator, the specification can be queried from the endpoint"
   ]
  },
  {
   "cell_type": "code",
   "execution_count": null,
   "id": "f60c67ee-a334-42af-a409-2a2172e9ecad",
   "metadata": {
    "tags": []
   },
   "outputs": [],
   "source": [
    "res = requests.get(\"http://127.0.0.1/openapi\",headers=get_auth_header())\n",
    "openapi_spec = res.json() # the spec is too big to be shown in this notebook"
   ]
  },
  {
   "cell_type": "markdown",
   "id": "ad7b25db-2a33-488c-97ce-1c2090d9f155",
   "metadata": {},
   "source": [
    "## Job Submission, Query, Delete\n",
    "* Query jobs status (squeue): [GET /slurm/v0.0.40/jobs](/doc/rest_api.html#slurmV0040GetJobs)  \n",
    "* Query specific job (squeue): [GET /slurm/v0.0.40/job/{job_id}](/doc/rest_api.html#slurmV0040GetJob)  \n",
    "* Submit job to cluster (sbatch): [POST /slurm/v0.0.40/job/submit](/doc/rest_api.html#slurmV0040PostJobSubmit)\n",
    "* Delete jobs (scancel): [DELETE /slurm/v0.0.40/jobs](/doc/rest_api.html#slurmV0040DeleteJobs)\n",
    "* Delete job by id (scancel): [DELETE /slurm/v0.0.40/job/{job_id}](http://localhost/doc/rest_api.html#slurmV0040DeleteJob)"
   ]
  },
  {
   "cell_type": "markdown",
   "id": "42925f6c-60ac-452f-b8e0-7ed83992a1ff",
   "metadata": {},
   "source": [
    "### Your first job submitted via API\n",
    "\n",
    "To submit a job, we send a POST request to the endpoint `/slurm/v0.0.40/job/submit`. The following example is a minimal stuff you need to submit a job via the API.  \n",
    "1. To submit a single job, you put all the config under the \"job\" key \n",
    "2. script, as a string, is required\n",
    "3. current_working_directory is required. In older version of slurmrestd, if a job is submitted without this entry, the job will take the work directory of slurmrestd as its work directory\n",
    "4. environment is required, as a list of string. You can define custom environment variables, like using \"sbatch --export\" option. Note that even if you are not defining any custom variables, you need still need this variable, the job submission request will fail otherwise.\n",
    "  \n",
    "If job is submitted successfully, you should be able to get the job_id from the result."
   ]
  },
  {
   "cell_type": "code",
   "execution_count": null,
   "id": "66c5578c-8cfa-4681-afe9-01e75d156056",
   "metadata": {
    "tags": []
   },
   "outputs": [],
   "source": [
    "# Job submission \n",
    "with io.open('./helloworld.sh', 'r', encoding='utf-8') as file:\n",
    "    req_body = {\n",
    "        \"job\": {\n",
    "            \"script\": file.read(),\n",
    "            \"current_working_directory\": os.getcwd(),\n",
    "            \"environment\": [\"\"] # this stupid dummy line is REQUIRED\n",
    "        }\n",
    "    }\n",
    "    res = requests.post(\"http://127.0.0.1/slurm/v0.0.40/job/submit\", json=req_body, headers=get_auth_header())\n",
    "    submission_result = res.json()\n",
    "    print(json.dumps(submission_result, indent=2))"
   ]
  },
  {
   "cell_type": "markdown",
   "id": "73ef5f63-8ebb-4268-ba59-c48325c28d3b",
   "metadata": {},
   "source": [
    "Using this job id we get from the submission we can get query more detail about the job. A GET request to path `/slurm/v0.0.40/job/{jobid}` gives you the detail of the job specified by the job id"
   ]
  },
  {
   "cell_type": "code",
   "execution_count": null,
   "id": "36a8bcd3-7624-4927-9138-c23051e9064f",
   "metadata": {
    "tags": []
   },
   "outputs": [],
   "source": [
    "res = requests.get(f\"http://127.0.0.1/slurm/v0.0.40/job/{submission_result['job_id']}\", headers=get_auth_header())\n",
    "print(json.dumps(res.json(), indent=2))"
   ]
  },
  {
   "cell_type": "markdown",
   "id": "a68eac4b-bbde-4772-aec3-c908556940dc",
   "metadata": {},
   "source": [
    "To remove this job, make a DELETE request to the same path."
   ]
  },
  {
   "cell_type": "code",
   "execution_count": null,
   "id": "d1aa1b54-631f-402c-ac0f-19a4eeba7537",
   "metadata": {
    "tags": []
   },
   "outputs": [],
   "source": [
    "res = requests.delete(f\"http://127.0.0.1/slurm/v0.0.40/job/{submission_result['job_id']}\", headers=get_auth_header())\n",
    "print(json.dumps(res.json(), indent=2))"
   ]
  },
  {
   "cell_type": "markdown",
   "id": "f4ca1fc2-4d81-48a0-bd34-8170aa09cfd3",
   "metadata": {},
   "source": [
    "### More complex jobs\n",
    "Now let's try some more complex jobs. We will reuse the mpi-pi example. One different from the MPI Guide notebook is this notebook run a python kernel, so we need to move the build process to a job. "
   ]
  },
  {
   "cell_type": "code",
   "execution_count": null,
   "id": "3dc8c096-daca-4a7e-8d73-2367392a2080",
   "metadata": {
    "tags": []
   },
   "outputs": [],
   "source": [
    "build_script = \"\"\"#!/bin/bash -l\n",
    "module avail\n",
    "module load mpi\n",
    "module list\n",
    "make --directory mpi-pi\n",
    "\"\"\"\n",
    "build_job = {\n",
    "    \"job\":{\n",
    "        \"name\": \"build-mpi-pi\",\n",
    "        \"script\": build_script,\n",
    "        \"current_working_directory\": os.getcwd(),\n",
    "        \"environment\": [\"\"],\n",
    "    }\n",
    "}\n",
    "\n",
    "# submit build_job \n",
    "res = requests.post(\"http://127.0.0.1/slurm/v0.0.40/job/submit\", json=build_job, headers=get_auth_header())\n",
    "build_job_submit_res = res.json()\n",
    "print(json.dumps(build_job_submit_res, indent=2))\n",
    "\n",
    "run_script = \"\"\"#!/bin/bash -l\n",
    "module load mpi\n",
    "mpirun mpi-pi/parallel-pi\n",
    "\"\"\"\n",
    "run_job = {\n",
    "    \"job\": {\n",
    "        \"name\": \"run-mpi-pi\",\n",
    "        \"script\": run_script,\n",
    "        \"current_working_directory\": os.getcwd(),\n",
    "        \"environment\": [\"\"],\n",
    "        \"dependency\": f\"afterany:{build_job_submit_res['job_id']}\",\n",
    "        \"minimum_nodes\": 2,\n",
    "        \"tasks_per_node\": 2\n",
    "    }\n",
    "}\n",
    "# submit 4 run_job\n",
    "for i in range(4):\n",
    "    res = requests.post(\"http://127.0.0.1/slurm/v0.0.40/job/submit\", json=run_job, headers=get_auth_header())\n",
    "    run_job_submit_res = res.json()\n",
    "    print(json.dumps(run_job_submit_res, indent=2))"
   ]
  },
  {
   "cell_type": "markdown",
   "id": "5e8de8ed-190e-4084-89c1-dddefed5ef8b",
   "metadata": {},
   "source": [
    "We can get a list of all the jobs and their details in these endpoints\n",
    "* GET /slurm/v0.0.40/jobs\n",
    "* GET /slurm/v0.0.40/jobs/state"
   ]
  },
  {
   "cell_type": "code",
   "execution_count": null,
   "id": "2baefa96-7ae7-465c-893c-88cdecb6c46c",
   "metadata": {
    "tags": []
   },
   "outputs": [],
   "source": [
    "res = requests.get(\"http://127.0.0.1/slurm/v0.0.40/jobs/state\", headers=get_auth_header())\n",
    "# print( json.dumps( res.json()[\"jobs\"], indent=2 ) )\n",
    "pd.DataFrame.from_records(res.json()[\"jobs\"]) "
   ]
  },
  {
   "cell_type": "code",
   "execution_count": null,
   "id": "c9566910-3e94-4668-b816-846b16b99bbf",
   "metadata": {
    "tags": []
   },
   "outputs": [],
   "source": [
    "res = requests.get(\"http://127.0.0.1/slurm/v0.0.40/jobs\", headers=get_auth_header())\n",
    "# print( json.dumps( res.json()[\"jobs\"], indent=2 ) )\n",
    "table = [\n",
    "    dict([\n",
    "        (key, value)\n",
    "        for key, value in job.items()\n",
    "        if key in [\"job_id\", \"dependency\", \"group_name\", \"user_name\", \"job_state\", \"tres_alloc_req\", \"tres_alloc_str\", \"partition\", \"name\", \"nodes\", \"resv_name\", \"standard_output\", \"time_limit\"]\n",
    "    ])\n",
    "    for job in res.json()[\"jobs\"]\n",
    "]\n",
    "pd.DataFrame.from_records(table) "
   ]
  },
  {
   "cell_type": "markdown",
   "id": "26c554a0-37c9-4e0f-97cd-9a934e215d85",
   "metadata": {},
   "source": [
    "## Manage nodes and partition"
   ]
  },
  {
   "cell_type": "markdown",
   "id": "7196b6f5-ba42-4bb6-9d78-d89344f4e8bf",
   "metadata": {},
   "source": [
    "### List partitions and nodes\n",
    "You can list partition details using these 2 endpoints. The response from these endpoint, are the same structure, but the second one contains only the partition you specified. \n",
    "* [GET /slurm/v0.0.40/partitions](/doc/rest_api.html#slurmV0040GetPartitions)\n",
    "* [GET /slurm/v0.0.40/partition/{partition_name}](/doc/rest_api.html#slurmV0040GetPartition)\n",
    "  \n",
    "To list node details use these endpoints:\n",
    "* GET [/slurm/v0.0.40/nodes](/doc/rest_api.html#slurmV0040GetNodes)\n",
    "* GET [/slurm/v0.0.40/node/{node_name}](/doc/rest_api.html#slurmV0040GetNode)"
   ]
  },
  {
   "cell_type": "code",
   "execution_count": null,
   "id": "ba765b5b-fd86-48aa-9dea-659a00572ff4",
   "metadata": {
    "tags": []
   },
   "outputs": [],
   "source": [
    "res = requests.get(\"http://127.0.0.1/slurm/v0.0.40/partitions\", headers=get_auth_header())\n",
    "# print(json.dumps(res.json(), indent=2))\n",
    "table = [\n",
    "    dict([\n",
    "        (key, value)\n",
    "        for key, value in partition.items()\n",
    "        if key in [\"tres\", \"name\", \"node_sets\", \"partition\"]\n",
    "    ])\n",
    "    for partition in res.json()[\"partitions\"]\n",
    "]\n",
    "pd.DataFrame.from_records(table) "
   ]
  },
  {
   "cell_type": "code",
   "execution_count": null,
   "id": "ef775eb3-1c17-4340-a0ee-fa3e912d6f0f",
   "metadata": {
    "tags": []
   },
   "outputs": [],
   "source": [
    "res = requests.get(\"http://127.0.0.1/slurm/v0.0.40/nodes\", headers=get_auth_header())\n",
    "# print(json.dumps(res.json(), indent=2))\n",
    "table = [\n",
    "    dict([\n",
    "        (key, value)\n",
    "        for key, value in node.items()\n",
    "        if key in [\"hostname\", \"tres\", \"reason\", \"state\", \"gres\", \"address\", \"architecture\", \"tres_used\"]\n",
    "    ])\n",
    "    for node in res.json()[\"nodes\"]\n",
    "]\n",
    "pd.DataFrame.from_records(table) "
   ]
  },
  {
   "cell_type": "markdown",
   "id": "13958cee-a81f-4592-81bd-bd7fc3226078",
   "metadata": {},
   "source": [
    "### Admin Operations\n",
    "You can also do admin operations via the api. eg. drain nodes, cancel other user's job. You will need to make these request as root, or a slurm admin.  \n",
    "In this container lab setup, the private key used to sign JWT is world readable, hence in this notebook you can sign a jwt declaring yourself as root. This would certainly a security issue for a production system, so please keep your private key properly."
   ]
  },
  {
   "cell_type": "markdown",
   "id": "79098f69-8cf4-4ebc-b5d5-b0f249245b44",
   "metadata": {},
   "source": [
    "#### Admin example - Drain/undrain node\n",
    "1. get list of node\n",
    "2. drain the first node\n",
    "3. undrain the drained node"
   ]
  },
  {
   "cell_type": "code",
   "execution_count": null,
   "id": "2850ad79-a0ba-46ae-8283-d22ed1bee955",
   "metadata": {
    "tags": []
   },
   "outputs": [],
   "source": [
    "# get node list\n",
    "res = requests.get(\"http://127.0.0.1/slurm/v0.0.40/nodes\", headers=get_auth_header())\n",
    "node_list = [ node[\"hostname\"] for node in res.json()[\"nodes\"]]\n",
    "\n",
    "# drain the node\n",
    "res = requests.post(\n",
    "    f\"http://127.0.0.1/slurm/v0.0.40/node/{node_list[0]}\", \n",
    "    json={\n",
    "        \"state\": [\"DRAIN\"],\n",
    "        \"reason\": \"test api drain\"\n",
    "    },\n",
    "    headers=get_auth_header(username=\"root\")\n",
    ")\n",
    "print(json.dumps(res.json(), indent=2))\n",
    "\n",
    "# check the state\n",
    "res = requests.get(f\"http://127.0.0.1/slurm/v0.0.40/node/{node_list[0]}\", headers=get_auth_header())\n",
    "print(json.dumps(res.json()[\"nodes\"][0][\"state\"], indent=2))\n",
    "\n",
    "# undrain the node\n",
    "res = requests.post(\n",
    "    f\"http://127.0.0.1/slurm/v0.0.40/node/{node_list[0]}\", \n",
    "    json={\n",
    "        \"state\": [\"RESUME\"],\n",
    "    },\n",
    "    headers=get_auth_header(username=\"root\")\n",
    ")\n",
    "print(json.dumps(res.json(), indent=2))"
   ]
  }
 ],
 "metadata": {
  "kernelspec": {
   "display_name": "Python 3 (ipykernel)",
   "language": "python",
   "name": "python3"
  },
  "language_info": {
   "codemirror_mode": {
    "name": "ipython",
    "version": 3
   },
   "file_extension": ".py",
   "mimetype": "text/x-python",
   "name": "python",
   "nbconvert_exporter": "python",
   "pygments_lexer": "ipython3",
   "version": "3.11.5"
  }
 },
 "nbformat": 4,
 "nbformat_minor": 5
}
